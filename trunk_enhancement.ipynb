{
 "cells": [
  {
   "cell_type": "code",
   "execution_count": 1,
   "metadata": {},
   "outputs": [],
   "source": [
    "import cv2\n",
    "import numpy as np\n",
    "import matplotlib.pyplot as plt"
   ]
  },
  {
   "cell_type": "code",
   "execution_count": 2,
   "metadata": {},
   "outputs": [],
   "source": [
    "bgr_values = []\n",
    "hsv_values = []"
   ]
  },
  {
   "cell_type": "code",
   "execution_count": 3,
   "metadata": {},
   "outputs": [],
   "source": [
    "def mouse_display(event,x,y,flags,param):\n",
    "    if event==cv2.EVENT_LBUTTONDBLCLK:  #Works only if the event is left mouse double click\n",
    "        global bgr_values, hsv_values\n",
    "        bgr_color = image[y, x]  \n",
    "        hsv_color = hsv[y, x]    \n",
    "        \n",
    "        print(\"The BGR Values are:\", bgr_color)\n",
    "        bgr_values.append(bgr_color.tolist())  \n",
    "        print(\"The HSV Values are:\", hsv_color)\n",
    "        hsv_values.append(hsv_color.tolist())  "
   ]
  },
  {
   "cell_type": "code",
   "execution_count": null,
   "metadata": {},
   "outputs": [],
   "source": [
    "image_path=r\"D:\\Downloads\\5089427626493324245.jpg\" \n",
    "image=cv2.imread(image_path)\n",
    "hsv=cv2.cvtColor(image,cv2.COLOR_BGR2HSV)\n",
    "cv2.imshow(\"Original\",image)\n",
    "cv2.setMouseCallback(\"Original\",mouse_display)\n",
    "cv2.waitKey(0)"
   ]
  },
  {
   "cell_type": "code",
   "execution_count": 6,
   "metadata": {},
   "outputs": [
    {
     "name": "stdout",
     "output_type": "stream",
     "text": [
      "BGR Min Values: B=0, G=0, R=7\n",
      "BGR Max Values: B=151, G=175, R=183\n",
      "HSV Min Values: H=0, S=36, V=7\n",
      "HSV Max Values: H=179, S=255, V=183\n"
     ]
    }
   ],
   "source": [
    "bgr_array = np.array(bgr_values)\n",
    "hsv_array = np.array(hsv_values)\n",
    "\n",
    "# Min and max values for BGR\n",
    "bgr_min = np.min(bgr_array, axis=0)\n",
    "bgr_max = np.max(bgr_array, axis=0)\n",
    "\n",
    "# Min and max values for HSV\n",
    "hsv_min = np.min(hsv_array, axis=0)\n",
    "hsv_max = np.max(hsv_array, axis=0)\n",
    "\n",
    "print(\"BGR Min Values: B={}, G={}, R={}\".format(bgr_min[0], bgr_min[1], bgr_min[2]))\n",
    "print(\"BGR Max Values: B={}, G={}, R={}\".format(bgr_max[0], bgr_max[1], bgr_max[2]))\n",
    "\n",
    "print(\"HSV Min Values: H={}, S={}, V={}\".format(hsv_min[0], hsv_min[1], hsv_min[2]))\n",
    "print(\"HSV Max Values: H={}, S={}, V={}\".format(hsv_max[0], hsv_max[1], hsv_max[2]))"
   ]
  },
  {
   "cell_type": "code",
   "execution_count": 9,
   "metadata": {},
   "outputs": [],
   "source": [
    "lower_brown = np.array([0,13,14])\n",
    "upper_brown = np.array([178,219,181])\n",
    "# lower_brown = np.array([10, 100, 20])\n",
    "# upper_brown = np.array([20, 255, 200])\n",
    "mask = cv2.inRange(hsv, lower_brown, upper_brown)\n",
    "# Bitwise-AND mask and original image\n",
    "result = cv2.bitwise_and(image,image, mask= mask)\n",
    "\n",
    "# display the mask and masked image\n",
    "cv2.imshow('Mask',mask)\n",
    "cv2.waitKey(0)\n",
    "cv2.imshow('Masked Image',result)\n",
    "cv2.waitKey(0)\n",
    "cv2.destroyAllWindows()"
   ]
  },
  {
   "cell_type": "code",
   "execution_count": 10,
   "metadata": {},
   "outputs": [],
   "source": [
    "# Enhance the brown color by increasing saturation and value\n",
    "hsv[mask > 0, 1] = np.clip(hsv[mask > 0, 1] * 1.5, 0, 255)  # Increase saturation\n",
    "hsv[mask > 0, 2] = np.clip(hsv[mask > 0, 2] * 1.2, 0, 255)  # Increase value (brightness)\n",
    "\n",
    "# Convert back to BGR color space\n",
    "enhanced_image = cv2.cvtColor(hsv, cv2.COLOR_HSV2BGR)\n",
    "\n",
    "# Display the original and enhanced images\n",
    "cv2.imshow('Original Image', image)\n",
    "cv2.imshow('Enhanced Image', enhanced_image)"
   ]
  },
  {
   "cell_type": "code",
   "execution_count": null,
   "metadata": {},
   "outputs": [],
   "source": []
  }
 ],
 "metadata": {
  "kernelspec": {
   "display_name": "Python 3 (ipykernel)",
   "language": "python",
   "name": "python3"
  },
  "language_info": {
   "codemirror_mode": {
    "name": "ipython",
    "version": 3
   },
   "file_extension": ".py",
   "mimetype": "text/x-python",
   "name": "python",
   "nbconvert_exporter": "python",
   "pygments_lexer": "ipython3",
   "version": "3.9.5"
  }
 },
 "nbformat": 4,
 "nbformat_minor": 4
}
